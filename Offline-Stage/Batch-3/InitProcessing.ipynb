{
  "nbformat": 4,
  "nbformat_minor": 0,
  "metadata": {
    "colab": {
      "provenance": [],
      "gpuType": "T4"
    },
    "kernelspec": {
      "name": "python3",
      "display_name": "Python 3"
    },
    "language_info": {
      "name": "python"
    },
    "accelerator": "GPU"
  },
  "cells": [
    {
      "cell_type": "markdown",
      "source": [
        "# Batch 3 - Developing Daily Load Profiles"
      ],
      "metadata": {
        "id": "kZsNCzUkhVVi"
      }
    },
    {
      "cell_type": "markdown",
      "source": [
        "## Install required libraries"
      ],
      "metadata": {
        "id": "16RbQiojhPcM"
      }
    },
    {
      "cell_type": "code",
      "execution_count": 1,
      "metadata": {
        "colab": {
          "base_uri": "https://localhost:8080/"
        },
        "id": "5Us_ZIGjyw4V",
        "outputId": "d4d3658c-ed63-4a68-b050-72e1f0774282"
      },
      "outputs": [
        {
          "output_type": "stream",
          "name": "stdout",
          "text": [
            "Requirement already satisfied: sktime in /usr/local/lib/python3.10/dist-packages (0.24.1)\n",
            "Requirement already satisfied: numpy<1.27,>=1.21 in /usr/local/lib/python3.10/dist-packages (from sktime) (1.23.5)\n",
            "Requirement already satisfied: packaging in /usr/local/lib/python3.10/dist-packages (from sktime) (23.2)\n",
            "Requirement already satisfied: pandas<2.2.0,>=1.1 in /usr/local/lib/python3.10/dist-packages (from sktime) (1.5.3)\n",
            "Requirement already satisfied: scikit-base<0.7.0 in /usr/local/lib/python3.10/dist-packages (from sktime) (0.6.1)\n",
            "Requirement already satisfied: scikit-learn<1.4.0,>=0.24 in /usr/local/lib/python3.10/dist-packages (from sktime) (1.2.2)\n",
            "Requirement already satisfied: scipy<2.0.0,>=1.2 in /usr/local/lib/python3.10/dist-packages (from sktime) (1.11.4)\n",
            "Requirement already satisfied: python-dateutil>=2.8.1 in /usr/local/lib/python3.10/dist-packages (from pandas<2.2.0,>=1.1->sktime) (2.8.2)\n",
            "Requirement already satisfied: pytz>=2020.1 in /usr/local/lib/python3.10/dist-packages (from pandas<2.2.0,>=1.1->sktime) (2023.3.post1)\n",
            "Requirement already satisfied: joblib>=1.1.1 in /usr/local/lib/python3.10/dist-packages (from scikit-learn<1.4.0,>=0.24->sktime) (1.3.2)\n",
            "Requirement already satisfied: threadpoolctl>=2.0.0 in /usr/local/lib/python3.10/dist-packages (from scikit-learn<1.4.0,>=0.24->sktime) (3.2.0)\n",
            "Requirement already satisfied: six>=1.5 in /usr/local/lib/python3.10/dist-packages (from python-dateutil>=2.8.1->pandas<2.2.0,>=1.1->sktime) (1.16.0)\n",
            "Requirement already satisfied: pyspark in /usr/local/lib/python3.10/dist-packages (3.5.0)\n",
            "Requirement already satisfied: py4j==0.10.9.7 in /usr/local/lib/python3.10/dist-packages (from pyspark) (0.10.9.7)\n"
          ]
        }
      ],
      "source": [
        "!pip install sktime\n",
        "!pip install pyspark"
      ]
    },
    {
      "cell_type": "markdown",
      "source": [
        "## Import required libraries"
      ],
      "metadata": {
        "id": "ymbcZS_Sijpq"
      }
    },
    {
      "cell_type": "code",
      "source": [
        "from google.colab import drive\n",
        "drive.mount('/content/drive')"
      ],
      "metadata": {
        "colab": {
          "base_uri": "https://localhost:8080/"
        },
        "id": "TUfyDLtDy4_Y",
        "outputId": "f6a54e7e-487d-46f0-8272-4937d16e4db5"
      },
      "execution_count": 2,
      "outputs": [
        {
          "output_type": "stream",
          "name": "stdout",
          "text": [
            "Drive already mounted at /content/drive; to attempt to forcibly remount, call drive.mount(\"/content/drive\", force_remount=True).\n"
          ]
        }
      ]
    },
    {
      "cell_type": "code",
      "source": [
        "from pyspark.sql import SparkSession\n",
        "from pyspark.sql.functions import col, date_format, min, max, hour, avg\n",
        "import matplotlib.pyplot as plt"
      ],
      "metadata": {
        "id": "yUxOyxMWNPSK"
      },
      "execution_count": 3,
      "outputs": []
    },
    {
      "cell_type": "markdown",
      "source": [
        "## Import data"
      ],
      "metadata": {
        "id": "oQ8b7LZFtSKR"
      }
    },
    {
      "cell_type": "code",
      "source": [
        "spark = SparkSession.builder.appName(\"TimeSeriesBatchProcessing\").getOrCreate()"
      ],
      "metadata": {
        "id": "283SFlNeN17_"
      },
      "execution_count": 4,
      "outputs": []
    },
    {
      "cell_type": "code",
      "source": [
        "data = '/content/drive/My Drive/Power_flow_data/2010-07-02.csv'"
      ],
      "metadata": {
        "id": "h8yPQpCKy_6T"
      },
      "execution_count": 5,
      "outputs": []
    },
    {
      "cell_type": "code",
      "source": [
        "df = spark.read.csv(data, header=True)"
      ],
      "metadata": {
        "id": "m9COpVbuNG4p"
      },
      "execution_count": 6,
      "outputs": []
    },
    {
      "cell_type": "markdown",
      "source": [
        "## Quick EDA"
      ],
      "metadata": {
        "id": "y-QTD2MVtXmn"
      }
    },
    {
      "cell_type": "markdown",
      "source": [
        "### Data understanding"
      ],
      "metadata": {
        "id": "IrN3r6GQy5bW"
      }
    },
    {
      "cell_type": "code",
      "source": [
        "min_interval = 5\n",
        "time_in_minutes = (df.select('Timestamp').distinct().count()) * 5\n",
        "hours = time_in_minutes // 60\n",
        "minutes = time_in_minutes % 60\n",
        "min_timestamp = df.agg(min(date_format(\"Timestamp\", \"HH:mm:ss\"))).collect()[0][0]\n",
        "max_timestamp = df.agg(max(date_format(\"Timestamp\", \"HH:mm:ss\"))).collect()[0][0]\n",
        "\n",
        "print(\"Number of rows = \", str(df.count()))\n",
        "print(\"Number of power lines = \", str(df.select('PowerLineID').distinct().count()))\n",
        "print(\"Time measured = \",str(hours) + \" hours and \", str(minutes), \" minutes\")\n",
        "print(\"Min time = \", str(min_timestamp))\n",
        "print(\"Max time = \", str(max_timestamp))\n",
        "\n",
        "df.show()"
      ],
      "metadata": {
        "colab": {
          "base_uri": "https://localhost:8080/"
        },
        "id": "zJEqtusVtgzp",
        "outputId": "c6127605-ebec-4a4c-b9cb-02bf7645c38f"
      },
      "execution_count": 7,
      "outputs": [
        {
          "output_type": "stream",
          "name": "stdout",
          "text": [
            "Number of rows =  551808\n",
            "Number of power lines =  1916\n",
            "Time measured =  24 hours and  0  minutes\n",
            "Min time =  00:00:00\n",
            "Max time =  23:55:00\n",
            "+-------------------+---------+-----------+--------------+\n",
            "|          Timestamp|DayOfWeek|PowerLineID|PowerFlowValue|\n",
            "+-------------------+---------+-----------+--------------+\n",
            "|2010-07-02 00:00:00|   Friday|       1215|        -150.0|\n",
            "|2010-07-02 00:00:00|   Friday|        182|           0.0|\n",
            "|2010-07-02 00:00:00|   Friday|        577|           0.0|\n",
            "|2010-07-02 00:00:00|   Friday|       1456|       -125.53|\n",
            "|2010-07-02 00:00:00|   Friday|       1405|         81.66|\n",
            "|2010-07-02 00:00:00|   Friday|       1780|         10.97|\n",
            "|2010-07-02 00:00:00|   Friday|       1182|           0.0|\n",
            "|2010-07-02 00:00:00|   Friday|        186|           0.0|\n",
            "|2010-07-02 00:00:00|   Friday|       1749|           0.0|\n",
            "|2010-07-02 00:00:00|   Friday|       1390|        -26.02|\n",
            "|2010-07-02 00:00:00|   Friday|        163|       -328.53|\n",
            "|2010-07-02 00:00:00|   Friday|       1590|         16.52|\n",
            "|2010-07-02 00:00:00|   Friday|        471|          -5.4|\n",
            "|2010-07-02 00:00:00|   Friday|        247|        205.19|\n",
            "|2010-07-02 00:00:00|   Friday|       1417|           0.0|\n",
            "|2010-07-02 00:00:00|   Friday|        995|         -46.0|\n",
            "|2010-07-02 00:00:00|   Friday|        921|        -81.75|\n",
            "|2010-07-02 00:00:00|   Friday|       1142|           0.0|\n",
            "|2010-07-02 00:00:00|   Friday|        667|         -79.1|\n",
            "|2010-07-02 00:00:00|   Friday|       1470|         -9.54|\n",
            "+-------------------+---------+-----------+--------------+\n",
            "only showing top 20 rows\n",
            "\n"
          ]
        }
      ]
    },
    {
      "cell_type": "markdown",
      "source": [
        "### Average power flow values per hour for a sample powerline."
      ],
      "metadata": {
        "id": "uLvDMF0uy2rX"
      }
    },
    {
      "cell_type": "code",
      "source": [
        "powerline_id = \"1590\"\n",
        "filtered_df = df.filter(col(\"PowerLineID\") == powerline_id)\n",
        "\n",
        "# Group by hour and calculate the average power flow value for each hour\n",
        "hourly_avg_df = (\n",
        "    filtered_df\n",
        "    .withColumn(\"Hour\", hour(\"Timestamp\"))\n",
        "    .groupBy(\"PowerLineID\", \"Hour\")\n",
        "    .agg(avg(\"PowerFlowValue\").alias(\"AveragePowerFlow\"))\n",
        ")\n",
        "\n",
        "# Extract Hour and AveragePowerFlow columns for plotting\n",
        "hours = [row[\"Hour\"] for row in hourly_avg_df.select(\"Hour\").collect()]\n",
        "average_power_flow_values = [row[\"AveragePowerFlow\"] for row in hourly_avg_df.select(\"AveragePowerFlow\").collect()]\n",
        "\n",
        "# Plot the data\n",
        "plt.figure(figsize=(10, 6))\n",
        "plt.bar(hours, average_power_flow_values, label=f\"PowerLineID {powerline_id}\")\n",
        "plt.title(f\"Average Power Flow Values per Hour for PowerLineID {powerline_id}\")\n",
        "plt.xlabel(\"Hour\")\n",
        "plt.ylabel(\"Average Power Flow\")\n",
        "plt.xticks(hours)\n",
        "plt.legend()\n",
        "plt.show()"
      ],
      "metadata": {
        "colab": {
          "base_uri": "https://localhost:8080/",
          "height": 564
        },
        "id": "S6Nc1_lLvG4D",
        "outputId": "a508dc48-3eae-4b8b-f5a7-8b9e60698d29"
      },
      "execution_count": 8,
      "outputs": [
        {
          "output_type": "display_data",
          "data": {
            "text/plain": [
              "<Figure size 1000x600 with 1 Axes>"
            ],
            "image/png": "[encoded data removed]"
          },
          "metadata": {}
        }
      ]
    },
    {
      "cell_type": "markdown",
      "source": [
        "### Hourly average power flow for each powerline"
      ],
      "metadata": {
        "id": "9PtIGM3wzIb6"
      }
    },
    {
      "cell_type": "code",
      "source": [
        "hourly_avg_df = (\n",
        "    df\n",
        "    .withColumn(\"Hour\", hour(\"Timestamp\"))\n",
        "    .groupBy(\"PowerLineID\", \"Hour\")\n",
        "    .agg(avg(\"PowerFlowValue\").alias(\"AveragePowerFlow\"))\n",
        ")\n",
        "\n",
        "print(\"Number of rows = \", str(hourly_avg_df.count()))\n",
        "hourly_avg_df.show()"
      ],
      "metadata": {
        "colab": {
          "base_uri": "https://localhost:8080/"
        },
        "id": "R8DUFxzHr0OH",
        "outputId": "ba2a8043-fca6-47a4-bcfc-86449294e910"
      },
      "execution_count": 9,
      "outputs": [
        {
          "output_type": "stream",
          "name": "stdout",
          "text": [
            "Number of rows =  45984\n",
            "+-----------+----+-------------------+\n",
            "|PowerLineID|Hour|   AveragePowerFlow|\n",
            "+-----------+----+-------------------+\n",
            "|         19|   0| 1186.2916666666665|\n",
            "|         73|   0| -225.1833333333333|\n",
            "|       1412|   0|-1.3741666666666683|\n",
            "|        754|   0|  32.04833333333334|\n",
            "|        771|   0|  77.46083333333333|\n",
            "|        450|   0|           -62.1525|\n",
            "|        860|   0| -4.081666666666667|\n",
            "|        884|   0|          -127.5225|\n",
            "|        542|   0|            10.7275|\n",
            "|       1888|   0| 42.116666666666674|\n",
            "|        394|   0| -413.8858333333333|\n",
            "|       1747|   1|                0.0|\n",
            "|        419|   1|             -29.95|\n",
            "|         69|   1|  85.44749999999999|\n",
            "|        787|   1|                0.0|\n",
            "|         37|   1|-235.89083333333335|\n",
            "|        409|   1| 161.68499999999997|\n",
            "|       1143|   1|                0.0|\n",
            "|       1363|   1|                0.0|\n",
            "|       1594|   1|-108.15499999999997|\n",
            "+-----------+----+-------------------+\n",
            "only showing top 20 rows\n",
            "\n"
          ]
        }
      ]
    },
    {
      "cell_type": "markdown",
      "source": [
        "### Daily average power flow for each power line"
      ],
      "metadata": {
        "id": "W0Z-WTEZzNMG"
      }
    },
    {
      "cell_type": "code",
      "source": [
        "daily_avg_df = (\n",
        "    df\n",
        "    .groupBy(\"PowerLineID\", \"DayOfWeek\")\n",
        "    .agg(avg(\"PowerFlowValue\").alias(\"AveragePowerFlow\"))\n",
        ")\n",
        "\n",
        "print(\"Number of rows = \", str(daily_avg_df.count()))\n",
        "daily_avg_df.show()"
      ],
      "metadata": {
        "colab": {
          "base_uri": "https://localhost:8080/"
        },
        "id": "-rKM_CGjtPdY",
        "outputId": "630c2df1-004b-4af3-8069-c420f0dd089e"
      },
      "execution_count": 10,
      "outputs": [
        {
          "output_type": "stream",
          "name": "stdout",
          "text": [
            "Number of rows =  1916\n",
            "+-----------+---------+-------------------+\n",
            "|PowerLineID|DayOfWeek|   AveragePowerFlow|\n",
            "+-----------+---------+-------------------+\n",
            "|         48|   Friday|                0.0|\n",
            "|       1754|   Friday|                0.0|\n",
            "|         41|   Friday|-214.75362848229167|\n",
            "|        655|   Friday| 222.92850690972216|\n",
            "|       1878|   Friday| 113.08234374999999|\n",
            "|       1894|   Friday|                0.0|\n",
            "|        196|   Friday| -161.6577777777778|\n",
            "|        569|   Friday|  88.56590274305553|\n",
            "|        949|   Friday|-124.02562497916662|\n",
            "|       1077|   Friday| -69.71883679166667|\n",
            "|        213|   Friday|-250.33439236111104|\n",
            "|        997|   Friday| -63.26743055381942|\n",
            "|        494|   Friday|  16.25034722812501|\n",
            "|        571|   Friday| 48.351788197916655|\n",
            "|       1738|   Friday|                0.0|\n",
            "|        555|   Friday| 109.14008680972222|\n",
            "|        961|   Friday|-112.81227430555558|\n",
            "|        814|   Friday| -97.40086804166668|\n",
            "|       1813|   Friday|-20.900538197916667|\n",
            "|        143|   Friday| 1284.9790802083335|\n",
            "+-----------+---------+-------------------+\n",
            "only showing top 20 rows\n",
            "\n"
          ]
        }
      ]
    },
    {
      "cell_type": "markdown",
      "source": [
        "### Overall daily average power flow"
      ],
      "metadata": {
        "id": "4h39n5vnzTFi"
      }
    },
    {
      "cell_type": "code",
      "source": [
        "overall_daily_avg_df = (\n",
        "    df\n",
        "    .groupBy(\"DayOfWeek\")\n",
        "    .agg(avg(\"PowerFlowValue\").alias(\"OverallDailyAveragePowerFlow\"))\n",
        ")\n",
        "\n",
        "overall_daily_avg_df.show()"
      ],
      "metadata": {
        "colab": {
          "base_uri": "https://localhost:8080/"
        },
        "id": "M71M5WOVysrL",
        "outputId": "e36bd623-2017-4fac-b2d6-526f9e6cf25f"
      },
      "execution_count": 11,
      "outputs": [
        {
          "output_type": "stream",
          "name": "stdout",
          "text": [
            "+---------+----------------------------+\n",
            "|DayOfWeek|OverallDailyAveragePowerFlow|\n",
            "+---------+----------------------------+\n",
            "|   Friday|          3.7456207412587483|\n",
            "+---------+----------------------------+\n",
            "\n"
          ]
        }
      ]
    },
    {
      "cell_type": "code",
      "source": [
        "### Next steps: profiling each training datasets and then creating a forecasting model!"
      ],
      "metadata": {
        "id": "IUsLzHWkzf5h"
      },
      "execution_count": 12,
      "outputs": []
    },
    {
      "cell_type": "code",
      "source": [
        "# @title Training CSV Files\n",
        "# List of file paths for different days\n",
        "train = ['/content/drive/My Drive/Power_flow_data/2010-07-01.csv',\n",
        "              '/content/drive/My Drive/Power_flow_data/2010-07-02.csv',\n",
        "              '/content/drive/My Drive/Power_flow_data/2010-07-03.csv',\n",
        "              '/content/drive/My Drive/Power_flow_data/2010-07-04.csv',\n",
        "              '/content/drive/My Drive/Power_flow_data/2010-07-05.csv',\n",
        "              '/content/drive/My Drive/Power_flow_data/2010-07-06.csv',\n",
        "              '/content/drive/My Drive/Power_flow_data/2010-07-07.csv',\n",
        "              '/content/drive/My Drive/Power_flow_data/2010-07-08.csv',\n",
        "              '/content/drive/My Drive/Power_flow_data/2010-07-09.csv',\n",
        "              '/content/drive/My Drive/Power_flow_data/2010-07-10.csv',\n",
        "              '/content/drive/My Drive/Power_flow_data/2010-07-11.csv',\n",
        "              '/content/drive/My Drive/Power_flow_data/2010-07-12.csv',\n",
        "              '/content/drive/My Drive/Power_flow_data/2010-07-13.csv',\n",
        "              '/content/drive/My Drive/Power_flow_data/2010-07-14.csv',\n",
        "              '/content/drive/My Drive/Power_flow_data/2010-07-15.csv',\n",
        "              '/content/drive/My Drive/Power_flow_data/2010-07-16.csv',\n",
        "              '/content/drive/My Drive/Power_flow_data/2010-07-17.csv',\n",
        "              '/content/drive/My Drive/Power_flow_data/2010-07-18.csv',\n",
        "              '/content/drive/My Drive/Power_flow_data/2010-07-19.csv',\n",
        "              '/content/drive/My Drive/Power_flow_data/2010-07-20.csv',\n",
        "              '/content/drive/My Drive/Power_flow_data/2010-07-21.csv',\n",
        "              '/content/drive/My Drive/Power_flow_data/2010-07-22.csv',\n",
        "              '/content/drive/My Drive/Power_flow_data/2010-07-23.csv',\n",
        "              '/content/drive/My Drive/Power_flow_data/2010-07-24.csv',\n",
        "              '/content/drive/My Drive/Power_flow_data/2010-07-25.csv',\n",
        "              '/content/drive/My Drive/Power_flow_data/2010-07-26.csv',\n",
        "              '/content/drive/My Drive/Power_flow_data/2010-07-27.csv',\n",
        "              '/content/drive/My Drive/Power_flow_data/2010-07-28.csv',\n",
        "              '/content/drive/My Drive/Power_flow_data/2010-07-29.csv',\n",
        "              '/content/drive/My Drive/Power_flow_data/2010-07-30.csv',\n",
        "              '/content/drive/My Drive/Power_flow_data/2010-07-31.csv',\n",
        "              '/content/drive/My Drive/Power_flow_data/2010-08-01.csv',\n",
        "              '/content/drive/My Drive/Power_flow_data/2010-08-02.csv',\n",
        "              '/content/drive/My Drive/Power_flow_data/2010-08-03.csv',\n",
        "              '/content/drive/My Drive/Power_flow_data/2010-08-04.csv',\n",
        "              '/content/drive/My Drive/Power_flow_data/2010-08-05.csv',\n",
        "              '/content/drive/My Drive/Power_flow_data/2010-08-06.csv',\n",
        "              '/content/drive/My Drive/Power_flow_data/2010-08-07.csv',\n",
        "              '/content/drive/My Drive/Power_flow_data/2010-08-08.csv',\n",
        "              '/content/drive/My Drive/Power_flow_data/2010-08-09.csv',\n",
        "              '/content/drive/My Drive/Power_flow_data/2010-08-10.csv',\n",
        "              '/content/drive/My Drive/Power_flow_data/2010-08-11.csv',\n",
        "              '/content/drive/My Drive/Power_flow_data/2010-08-12.csv',\n",
        "              '/content/drive/My Drive/Power_flow_data/2010-08-13.csv',\n",
        "              '/content/drive/My Drive/Power_flow_data/2010-08-14.csv',\n",
        "              '/content/drive/My Drive/Power_flow_data/2010-08-15.csv',\n",
        "              '/content/drive/My Drive/Power_flow_data/2010-08-16.csv',\n",
        "              '/content/drive/My Drive/Power_flow_data/2010-08-17.csv',\n",
        "              '/content/drive/My Drive/Power_flow_data/2010-08-18.csv',\n",
        "              '/content/drive/My Drive/Power_flow_data/2010-08-19.csv',\n",
        "              '/content/drive/My Drive/Power_flow_data/2010-08-20.csv',\n",
        "              '/content/drive/My Drive/Power_flow_data/2010-08-21.csv',\n",
        "              '/content/drive/My Drive/Power_flow_data/2010-08-22.csv',\n",
        "              '/content/drive/My Drive/Power_flow_data/2010-08-23.csv',\n",
        "              '/content/drive/My Drive/Power_flow_data/2010-08-24.csv',\n",
        "              '/content/drive/My Drive/Power_flow_data/2010-08-25.csv',\n",
        "              '/content/drive/My Drive/Power_flow_data/2010-08-26.csv',\n",
        "              '/content/drive/My Drive/Power_flow_data/2010-08-27.csv',\n",
        "              '/content/drive/My Drive/Power_flow_data/2010-08-28.csv',\n",
        "              '/content/drive/My Drive/Power_flow_data/2010-08-29.csv',\n",
        "              '/content/drive/My Drive/Power_flow_data/2010-08-30.csv',\n",
        "              '/content/drive/My Drive/Power_flow_data/2010-08-31.csv',\n",
        "              '/content/drive/My Drive/Power_flow_data/2010-09-01.csv',\n",
        "              '/content/drive/My Drive/Power_flow_data/2010-09-02.csv',\n",
        "              '/content/drive/My Drive/Power_flow_data/2010-09-03.csv',\n",
        "              '/content/drive/My Drive/Power_flow_data/2010-09-04.csv',\n",
        "              '/content/drive/My Drive/Power_flow_data/2010-09-05.csv',\n",
        "              '/content/drive/My Drive/Power_flow_data/2010-09-06.csv',\n",
        "              '/content/drive/My Drive/Power_flow_data/2010-09-07.csv',\n",
        "              '/content/drive/My Drive/Power_flow_data/2010-09-08.csv'\n",
        "             ]\n",
        "\n",
        "test = ['/content/drive/My Drive/Power_flow_data/2010-09-09.csv',\n",
        "              '/content/drive/My Drive/Power_flow_data/2010-09-10.csv',\n",
        "              '/content/drive/My Drive/Power_flow_data/2010-09-11.csv',\n",
        "              '/content/drive/My Drive/Power_flow_data/2010-09-12.csv',\n",
        "              '/content/drive/My Drive/Power_flow_data/2010-09-13.csv',\n",
        "              '/content/drive/My Drive/Power_flow_data/2010-09-14.csv',\n",
        "              '/content/drive/My Drive/Power_flow_data/2010-09-15.csv',\n",
        "              '/content/drive/My Drive/Power_flow_data/2010-09-16.csv',\n",
        "              '/content/drive/My Drive/Power_flow_data/2010-09-17.csv',\n",
        "              '/content/drive/My Drive/Power_flow_data/2010-09-18.csv',\n",
        "              '/content/drive/My Drive/Power_flow_data/2010-09-19.csv',\n",
        "              '/content/drive/My Drive/Power_flow_data/2010-09-20.csv',\n",
        "              '/content/drive/My Drive/Power_flow_data/2010-09-21.csv',\n",
        "              '/content/drive/My Drive/Power_flow_data/2010-09-22.csv',\n",
        "              '/content/drive/My Drive/Power_flow_data/2010-09-23.csv',\n",
        "              '/content/drive/My Drive/Power_flow_data/2010-09-24.csv',\n",
        "              '/content/drive/My Drive/Power_flow_data/2010-09-25.csv'\n",
        "              ]"
      ],
      "metadata": {
        "cellView": "form",
        "id": "UazeX22qdp7T"
      },
      "execution_count": 13,
      "outputs": []
    }
  ]
}